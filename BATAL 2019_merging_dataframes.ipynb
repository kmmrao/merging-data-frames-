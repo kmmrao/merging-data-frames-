{
 "cells": [
  {
   "cell_type": "code",
   "execution_count": 2,
   "metadata": {},
   "outputs": [],
   "source": [
    "import numpy as np\n",
    "import pandas as pd\n",
    "import matplotlib.pyplot as plt"
   ]
  },
  {
   "cell_type": "code",
   "execution_count": 3,
   "metadata": {},
   "outputs": [],
   "source": [
    "path = 'D:/New_Life/PAPER/Play/'\n",
    "data = pd.read_excel(path+'DATALOG_1.xlsx', usecols='C:V',skiprows=2)\n",
    "jp_data = pd.read_excel(path+'zf2_popc_20190731_1.xlsx',usecols='A:AU',skiprows=23)"
   ]
  },
  {
   "cell_type": "code",
   "execution_count": 4,
   "metadata": {},
   "outputs": [
    {
     "data": {
      "text/plain": [
       "(16491, 20)"
      ]
     },
     "execution_count": 4,
     "metadata": {},
     "output_type": "execute_result"
    }
   ],
   "source": [
    "data.shape"
   ]
  },
  {
   "cell_type": "code",
   "execution_count": 5,
   "metadata": {},
   "outputs": [
    {
     "data": {
      "text/plain": [
       "Index(['date', 'ist', 'date [y-m-d GMT]', ' time [h:m:s GMT]', ' milliseconds',\n",
       "       ' seconds since midnight [GMT]', ' elapsed minutes',\n",
       "       ' altitude (from iMet PTU) [km]', ' iMet pressure [mb]',\n",
       "       ' iMet air temperature (corrected) [deg C]',\n",
       "       ' iMet air temperature (raw) [deg C]', ' iMet humidity [RH %]',\n",
       "       ' iMet frostpoint [deg C]', ' iMet internal temperature [deg C]',\n",
       "       ' iMet battery voltage [V]', ' iMet theta [K]',\n",
       "       ' iMet temperature (of pressure sensor) [deg C]',\n",
       "       ' iMet temperature (of humidity sensor) [deg C]',\n",
       "       ' iMet ascent rate [m/s]', ' iMet water vapor mixing ratio [ppmv]',\n",
       "       ' iMet total column water [mm]', ' O3 partial pressure [mPa]',\n",
       "       ' O3 mixing ratio [ppmv]', ' total column ozone [DU]',\n",
       "       ' total column ozone with extrapolation [DU]', ' O3 cell current [uA]',\n",
       "       ' O3 pump temperature [deg C]', ' O3 pump current [mA]',\n",
       "       ' O3 battery voltage [V]', ' GPS latitude', ' GPS longitude',\n",
       "       ' GPS altitude [km]', ' GPS num satellites', ' GPS pressure [mb]',\n",
       "       ' GPS wind speed [m/s]', ' GPS wind direction [deg]',\n",
       "       ' GPS ascent rate [m/s]', ' GPS(X) east velocity [m/s]',\n",
       "       ' GPS(X) north velocity [m/s]', ' GPS(X) up velocity [m/s]',\n",
       "       ' GPS time [h:m:s GMT]', ' GPS heading from launch [deg]',\n",
       "       ' GPS elevation angle from launch [deg]',\n",
       "       ' GPS distance from launch [km]', ' predicted landing latitude',\n",
       "       ' predicted landing longitude', ' predicted time to landing [min]'],\n",
       "      dtype='object')"
      ]
     },
     "execution_count": 5,
     "metadata": {},
     "output_type": "execute_result"
    }
   ],
   "source": [
    "jp_data.columns"
   ]
  },
  {
   "cell_type": "code",
   "execution_count": 6,
   "metadata": {},
   "outputs": [
    {
     "name": "stdout",
     "output_type": "stream",
     "text": [
      "19:00:00\n",
      "00:00:00\n"
     ]
    }
   ],
   "source": [
    "print(jp_data[' time [h:m:s GMT]'][0])\n",
    "print(data['ist'][0])"
   ]
  },
  {
   "cell_type": "code",
   "execution_count": 7,
   "metadata": {},
   "outputs": [],
   "source": [
    "jp_datetime = jp_data['date'].astype(str) + ' '+jp_data['ist'].astype(str) \n",
    "datetime = data['date'].astype(str) + ' '+data['ist'].astype(str)"
   ]
  },
  {
   "cell_type": "code",
   "execution_count": 8,
   "metadata": {},
   "outputs": [
    {
     "data": {
      "text/plain": [
       "'2019-08-01 00:00:00'"
      ]
     },
     "execution_count": 8,
     "metadata": {},
     "output_type": "execute_result"
    }
   ],
   "source": [
    "datetime[0]"
   ]
  },
  {
   "cell_type": "code",
   "execution_count": 9,
   "metadata": {},
   "outputs": [],
   "source": [
    "jp_datetime = pd.to_datetime(jp_datetime , format = '%Y-%m-%d %H:%M:%S') \n",
    "datetime = pd.to_datetime(datetime, format = '%Y-%m-%d %H:%M:%S')"
   ]
  },
  {
   "cell_type": "code",
   "execution_count": 10,
   "metadata": {},
   "outputs": [
    {
     "data": {
      "text/plain": [
       "(14269,)"
      ]
     },
     "execution_count": 10,
     "metadata": {},
     "output_type": "execute_result"
    }
   ],
   "source": [
    "datetime\n",
    "jp_datetime.shape"
   ]
  },
  {
   "cell_type": "code",
   "execution_count": 11,
   "metadata": {},
   "outputs": [],
   "source": [
    "new_data = jp_data.merge(data, on = ['ist'])"
   ]
  },
  {
   "cell_type": "code",
   "execution_count": 12,
   "metadata": {},
   "outputs": [],
   "source": [
    "new_data.to_excel('new_data.xlsx')"
   ]
  },
  {
   "cell_type": "code",
   "execution_count": 13,
   "metadata": {},
   "outputs": [
    {
     "data": {
      "text/plain": [
       "Index(['date_x', 'ist', 'date [y-m-d GMT]', ' time [h:m:s GMT]',\n",
       "       ' milliseconds', ' seconds since midnight [GMT]', ' elapsed minutes',\n",
       "       ' altitude (from iMet PTU) [km]', ' iMet pressure [mb]',\n",
       "       ' iMet air temperature (corrected) [deg C]',\n",
       "       ' iMet air temperature (raw) [deg C]', ' iMet humidity [RH %]',\n",
       "       ' iMet frostpoint [deg C]', ' iMet internal temperature [deg C]',\n",
       "       ' iMet battery voltage [V]', ' iMet theta [K]',\n",
       "       ' iMet temperature (of pressure sensor) [deg C]',\n",
       "       ' iMet temperature (of humidity sensor) [deg C]',\n",
       "       ' iMet ascent rate [m/s]', ' iMet water vapor mixing ratio [ppmv]',\n",
       "       ' iMet total column water [mm]', ' O3 partial pressure [mPa]',\n",
       "       ' O3 mixing ratio [ppmv]', ' total column ozone [DU]',\n",
       "       ' total column ozone with extrapolation [DU]', ' O3 cell current [uA]',\n",
       "       ' O3 pump temperature [deg C]', ' O3 pump current [mA]',\n",
       "       ' O3 battery voltage [V]', ' GPS latitude', ' GPS longitude',\n",
       "       ' GPS altitude [km]', ' GPS num satellites', ' GPS pressure [mb]',\n",
       "       ' GPS wind speed [m/s]', ' GPS wind direction [deg]',\n",
       "       ' GPS ascent rate [m/s]', ' GPS(X) east velocity [m/s]',\n",
       "       ' GPS(X) north velocity [m/s]', ' GPS(X) up velocity [m/s]',\n",
       "       ' GPS time [h:m:s GMT]', ' GPS heading from launch [deg]',\n",
       "       ' GPS elevation angle from launch [deg]',\n",
       "       ' GPS distance from launch [km]', ' predicted landing latitude',\n",
       "       ' predicted landing longitude', ' predicted time to landing [min]',\n",
       "       'date_y', 'PM1_0E', 'PM_2.5E', 'PM10_E', 'PM1_0S', 'PM2_5S', 'PM10_S',\n",
       "       'nPM0_3', 'nPM0_5', 'nPM1_0', 'nPM2_5', 'nPM5', 'nPM10', 'RH', 'PA',\n",
       "       'TEMP', 'RHD', 'TEMPD', 'HI'],\n",
       "      dtype='object')"
      ]
     },
     "execution_count": 13,
     "metadata": {},
     "output_type": "execute_result"
    }
   ],
   "source": [
    "new_data.columns"
   ]
  },
  {
   "cell_type": "code",
   "execution_count": 24,
   "metadata": {},
   "outputs": [
    {
     "data": {
      "text/plain": [
       "0       1900-01-01 00:30:00\n",
       "1       1900-01-01 00:30:01\n",
       "2       1900-01-01 00:30:02\n",
       "3       1900-01-01 00:30:04\n",
       "4       1900-01-01 00:30:05\n",
       "                ...        \n",
       "11714   1900-01-01 04:42:09\n",
       "11715   1900-01-01 04:42:10\n",
       "11716   1900-01-01 04:42:17\n",
       "11717   1900-01-01 04:42:36\n",
       "11718   1900-01-01 04:42:37\n",
       "Name: ist, Length: 11719, dtype: datetime64[ns]"
      ]
     },
     "execution_count": 24,
     "metadata": {},
     "output_type": "execute_result"
    }
   ],
   "source": [
    "ist = pd.to_datetime(new_data['ist'], format = '%H:%M:%S')\n",
    "ist"
   ]
  },
  {
   "cell_type": "code",
   "execution_count": 30,
   "metadata": {},
   "outputs": [
    {
     "data": {
      "image/png": "[encoded data removed]",
      "text/plain": [
       "<Figure size 432x288 with 1 Axes>"
      ]
     },
     "metadata": {
      "needs_background": "light"
     },
     "output_type": "display_data"
    }
   ],
   "source": [
    "# tempd \n",
    "\n",
    "plt.plot(ist,new_data['RHD'],c='red',label='RH from DHT22')\n",
    "plt.plot(ist,new_data[' iMet humidity [RH %]'],c='blue',label = 'RH from Radiosonde')\n",
    "plt.legend()\n",
    "plt.title('Relative Humidity comparision from Imet and DHT22')\n",
    "plt.savefig('BATAL_2019_RH.jpg',dpi=1080)"
   ]
  },
  {
   "cell_type": "code",
   "execution_count": 31,
   "metadata": {},
   "outputs": [
    {
     "data": {
      "image/png": "[encoded data removed]",
      "text/plain": [
       "<Figure size 432x288 with 1 Axes>"
      ]
     },
     "metadata": {
      "needs_background": "light"
     },
     "output_type": "display_data"
    }
   ],
   "source": [
    "plt.plot(ist,new_data['TEMPD'],c='red',label='Temperature from DHT22')\n",
    "plt.plot(ist,new_data[' iMet air temperature (corrected) [deg C]'],c='blue',label = 'Temperature from Radiosonde')\n",
    "plt.legend()\n",
    "plt.title('Temperature comparision from Imet and DHT22')\n",
    "plt.savefig('BATAL_2019_TEMPERATURE.jpg',dpi=1080)"
   ]
  },
  {
   "cell_type": "code",
   "execution_count": 222,
   "metadata": {},
   "outputs": [],
   "source": [
    "time = pd.to_datetime('2019-07-31 5:30:00', format = '%Y-%m-%d %H:%M:%S')"
   ]
  },
  {
   "cell_type": "code",
   "execution_count": 204,
   "metadata": {},
   "outputs": [],
   "source": []
  },
  {
   "cell_type": "code",
   "execution_count": 205,
   "metadata": {},
   "outputs": [],
   "source": []
  },
  {
   "cell_type": "code",
   "execution_count": null,
   "metadata": {},
   "outputs": [],
   "source": []
  },
  {
   "cell_type": "code",
   "execution_count": null,
   "metadata": {},
   "outputs": [],
   "source": []
  },
  {
   "cell_type": "code",
   "execution_count": null,
   "metadata": {},
   "outputs": [],
   "source": []
  }
 ],
 "metadata": {
  "kernelspec": {
   "display_name": "Python 3",
   "language": "python",
   "name": "python3"
  },
  "language_info": {
   "codemirror_mode": {
    "name": "ipython",
    "version": 3
   },
   "file_extension": ".py",
   "mimetype": "text/x-python",
   "name": "python",
   "nbconvert_exporter": "python",
   "pygments_lexer": "ipython3",
   "version": "3.8.8"
  }
 },
 "nbformat": 4,
 "nbformat_minor": 4
}
